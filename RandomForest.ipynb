{
 "cells": [
  {
   "cell_type": "markdown",
   "metadata": {},
   "source": [
    "Model Random forest menggunakan classifier untuk lomba YSNF\n"
   ]
  },
  {
   "cell_type": "code",
   "execution_count": 3,
   "metadata": {},
   "outputs": [],
   "source": [
    "#import library yang diperlukan\n",
    "import pandas as pd\n",
    "from sklearn.model_selection import train_test_split as split_data\n",
    "from sklearn.ensemble import RandomForestClassifier\n",
    "from sklearn.metrics import accuracy_score, classification_report"
   ]
  },
  {
   "cell_type": "code",
   "execution_count": 16,
   "metadata": {},
   "outputs": [],
   "source": [
    "#baca dataset dari folder yang sudah dipisah\n",
    "\n",
    "data_uji = pd.read_csv('/Mob_App_SIHAPIN/ML/data_uji/data_uji.csv')\n",
    "data_train = pd.read_csv('/Mob_App_SIHAPIN/ML/data_train/data_train.csv')"
   ]
  },
  {
   "cell_type": "code",
   "execution_count": 14,
   "metadata": {},
   "outputs": [
    {
     "ename": "NameError",
     "evalue": "name 'X_train' is not defined",
     "output_type": "error",
     "traceback": [
      "\u001b[1;31m---------------------------------------------------------------------------\u001b[0m",
      "\u001b[1;31mNameError\u001b[0m                                 Traceback (most recent call last)",
      "Cell \u001b[1;32mIn[14], line 6\u001b[0m\n\u001b[0;32m      4\u001b[0m \u001b[38;5;28;01mfor\u001b[39;00m label \u001b[38;5;129;01min\u001b[39;00m [\u001b[38;5;124m'\u001b[39m\u001b[38;5;124mrecommendation_pH\u001b[39m\u001b[38;5;124m'\u001b[39m, \u001b[38;5;124m'\u001b[39m\u001b[38;5;124mrecommendation_TDS\u001b[39m\u001b[38;5;124m'\u001b[39m, \u001b[38;5;124m'\u001b[39m\u001b[38;5;124mrecommendation_temp\u001b[39m\u001b[38;5;124m'\u001b[39m]:\n\u001b[0;32m      5\u001b[0m     model \u001b[38;5;241m=\u001b[39m RandomForestClassifier(n_estimators\u001b[38;5;241m=\u001b[39m\u001b[38;5;241m100\u001b[39m, random_state\u001b[38;5;241m=\u001b[39m\u001b[38;5;241m42\u001b[39m)\n\u001b[1;32m----> 6\u001b[0m     model\u001b[38;5;241m.\u001b[39mfit(\u001b[43mX_train\u001b[49m[[\u001b[38;5;124m'\u001b[39m\u001b[38;5;124mwater_pH\u001b[39m\u001b[38;5;124m'\u001b[39m, \u001b[38;5;124m'\u001b[39m\u001b[38;5;124mTDS\u001b[39m\u001b[38;5;124m'\u001b[39m, \u001b[38;5;124m'\u001b[39m\u001b[38;5;124mwater_temp\u001b[39m\u001b[38;5;124m'\u001b[39m]], y_train[label])\n\u001b[0;32m      7\u001b[0m     models[label] \u001b[38;5;241m=\u001b[39m model\n",
      "\u001b[1;31mNameError\u001b[0m: name 'X_train' is not defined"
     ]
    }
   ],
   "source": [
    "# Melatih Model Random Forest Classifier untuk Semua Klasifikasi\n",
    "\n",
    "models = {}\n",
    "for label in ['recommendation_pH', 'recommendation_TDS', 'recommendation_temp']:\n",
    "    model = RandomForestClassifier(n_estimators=100, random_state=42)\n",
    "    model.fit(X_train[['water_pH', 'TDS', 'water_temp']], y_train[label])\n",
    "    models[label] = model"
   ]
  },
  {
   "cell_type": "code",
   "execution_count": 13,
   "metadata": {},
   "outputs": [
    {
     "name": "stdout",
     "output_type": "stream",
     "text": [
      "=== Evaluasi Model untuk recommendation_pH ===\n",
      "Akurasi Model: 1.00\n",
      "                    precision    recall  f1-score   support\n",
      "\n",
      "    Naikkan pH air       1.00      1.00      1.00     33991\n",
      "Pertahankan pH air       1.00      1.00      1.00     15806\n",
      "   Turunkan pH air       1.00      1.00      1.00     51349\n",
      "\n",
      "          accuracy                           1.00    101146\n",
      "         macro avg       1.00      1.00      1.00    101146\n",
      "      weighted avg       1.00      1.00      1.00    101146\n",
      "\n",
      "=== Evaluasi Model untuk recommendation_TDS ===\n",
      "Akurasi Model: 1.00\n",
      "                                          precision    recall  f1-score   support\n",
      "\n",
      "             Pertahankan Sumber air anda       1.00      1.00      1.00     87007\n",
      "        TDS Tinggi, Ubah sumber air anda       1.00      1.00      1.00     14089\n",
      "TDS rendah, tingkatkan kualitas air anda       1.00      1.00      1.00        50\n",
      "\n",
      "                                accuracy                           1.00    101146\n",
      "                               macro avg       1.00      1.00      1.00    101146\n",
      "                            weighted avg       1.00      1.00      1.00    101146\n",
      "\n",
      "=== Evaluasi Model untuk recommendation_temp ===\n",
      "Akurasi Model: 1.00\n",
      "                            precision    recall  f1-score   support\n",
      "\n",
      "    Naikkan temperatur air       1.00      1.00      1.00     42464\n",
      "pertahankan temperatur air       1.00      1.00      1.00     58682\n",
      "\n",
      "                  accuracy                           1.00    101146\n",
      "                 macro avg       1.00      1.00      1.00    101146\n",
      "              weighted avg       1.00      1.00      1.00    101146\n",
      "\n"
     ]
    }
   ],
   "source": [
    "#lakukan prediksi dan evaluasi pada model\n",
    "\n",
    "for label, model in models.items():\n",
    "    y_pred = model.predict(X_test)\n",
    "    accuracy = accuracy_score(y_test[label], y_pred)\n",
    "    report = classification_report(y_test[label], y_pred)\n",
    "    \n",
    "    print(f'=== Evaluasi Model untuk {label} ===')\n",
    "    print(f'Akurasi Model: {accuracy:.2f}')\n",
    "    print(report)"
   ]
  }
 ],
 "metadata": {
  "kernelspec": {
   "display_name": "Python 3",
   "language": "python",
   "name": "python3"
  },
  "language_info": {
   "codemirror_mode": {
    "name": "ipython",
    "version": 3
   },
   "file_extension": ".py",
   "mimetype": "text/x-python",
   "name": "python",
   "nbconvert_exporter": "python",
   "pygments_lexer": "ipython3",
   "version": "3.12.2"
  }
 },
 "nbformat": 4,
 "nbformat_minor": 2
}
