{
 "cells": [
  {
   "cell_type": "markdown",
   "metadata": {},
   "source": [
    "Model Random forest menggunakan classifier untuk lomba YSNF\n"
   ]
  },
  {
   "cell_type": "code",
   "execution_count": 44,
   "metadata": {},
   "outputs": [],
   "source": [
    "#import library yang diperlukan\n",
    "import pandas as pd\n",
    "import joblib \n",
    "from sklearn.model_selection import train_test_split as split_data\n",
    "from sklearn.ensemble import RandomForestClassifier\n",
    "from sklearn.metrics import accuracy_score, classification_report"
   ]
  },
  {
   "cell_type": "code",
   "execution_count": 45,
   "metadata": {},
   "outputs": [],
   "source": [
    "#baca dataset dari folder yang sudah dipisah\n",
    "\n",
    "data_uji = pd.read_csv('/Mob_App_SIHAPIN/ML/data_uji/data_uji.csv')\n",
    "data_train = pd.read_csv('/Mob_App_SIHAPIN/ML/data_train/data_train.csv')"
   ]
  },
  {
   "cell_type": "code",
   "execution_count": 46,
   "metadata": {},
   "outputs": [],
   "source": [
    "# 2. Pilih fitur dan label\n",
    "features = ['water_pH', 'TDS', 'water_temp']\n",
    "labels = ['recommendation_pH', 'recommendation_TDS', 'recommendation_temp']\n",
    "\n",
    "X_train = data_train[features]\n",
    "y_train = data_train[labels]\n",
    "\n",
    "X_test = data_uji[features]"
   ]
  },
  {
   "cell_type": "code",
   "execution_count": 47,
   "metadata": {},
   "outputs": [],
   "source": [
    "# Melatih Model Random Forest Classifier untuk Semua Klasifikasi\n",
    "\n",
    "models = {}\n",
    "for label in ['recommendation_pH', 'recommendation_TDS', 'recommendation_temp']:\n",
    "    model = RandomForestClassifier(n_estimators=100, random_state=42)\n",
    "    model.fit(X_train[['water_pH', 'TDS', 'water_temp']], y_train[label])\n",
    "    models[label] = model"
   ]
  },
  {
   "cell_type": "code",
   "execution_count": 48,
   "metadata": {},
   "outputs": [
    {
     "name": "stdout",
     "output_type": "stream",
     "text": [
      "Prediksi berhasil disimpan ke 'test_predictions_with_data.csv'\n"
     ]
    }
   ],
   "source": [
    "# Buat dictionary untuk menyimpan hasil prediksi\n",
    "predictions_dict = {}\n",
    "\n",
    "# Lakukan prediksi untuk setiap label dan simpan ke dictionary\n",
    "for label, model in models.items():\n",
    "    predictions_dict[label] = model.predict(X_test)\n",
    "\n",
    "# Konversi dictionary ke DataFrame\n",
    "predictions_df = pd.DataFrame(predictions_dict)\n",
    "\n",
    "# Gabungkan dengan X_test agar file CSV berisi data uji + prediksi\n",
    "final_df = X_test.copy()  # Salin X_test agar tidak mengubah aslinya\n",
    "final_df.reset_index(drop=True, inplace=True)  # Reset index untuk mencegah error saat penggabungan\n",
    "predictions_df.reset_index(drop=True, inplace=True)  # Reset index agar panjangnya sama\n",
    "final_df = pd.concat([final_df, predictions_df], axis=1)  # Gabungkan\n",
    "\n",
    "# Simpan ke CSV\n",
    "final_df.to_csv(\"test_predictions_with_data.csv\", index=False)\n",
    "\n",
    "print(\"Prediksi berhasil disimpan ke 'test_predictions_with_data.csv'\")\n"
   ]
  },
  {
   "cell_type": "code",
   "execution_count": 49,
   "metadata": {},
   "outputs": [
    {
     "name": "stdout",
     "output_type": "stream",
     "text": [
      "Model gabungan berhasil disimpan!\n"
     ]
    }
   ],
   "source": [
    "# Gabungkan semua model ke dalam satu dictionary\n",
    "combined_model = {\n",
    "    \"recommendation_pH\": models[\"recommendation_pH\"],\n",
    "    \"recommendation_TDS\": models[\"recommendation_TDS\"],\n",
    "    \"recommendation_temp\": models[\"recommendation_temp\"]\n",
    "}\n",
    "\n",
    "# Simpan semua model dalam satu file\n",
    "joblib.dump(combined_model, \"combined_model.pkl\")\n",
    "\n",
    "print(\"Model gabungan berhasil disimpan!\")"
   ]
  }
 ],
 "metadata": {
  "kernelspec": {
   "display_name": "Python 3",
   "language": "python",
   "name": "python3"
  },
  "language_info": {
   "codemirror_mode": {
    "name": "ipython",
    "version": 3
   },
   "file_extension": ".py",
   "mimetype": "text/x-python",
   "name": "python",
   "nbconvert_exporter": "python",
   "pygments_lexer": "ipython3",
   "version": "3.12.2"
  }
 },
 "nbformat": 4,
 "nbformat_minor": 2
}
